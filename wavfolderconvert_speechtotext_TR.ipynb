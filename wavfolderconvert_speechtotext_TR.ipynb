{
  "nbformat": 4,
  "nbformat_minor": 0,
  "metadata": {
    "colab": {
      "name": "wavfolderconvert-speechtotext_TR.ipynb",
      "provenance": [],
      "authorship_tag": "ABX9TyM9nII9t1gtlWlBw9cPr7zj",
      "include_colab_link": true
    },
    "kernelspec": {
      "name": "python3",
      "display_name": "Python 3"
    },
    "language_info": {
      "name": "python"
    }
  },
  "cells": [
    {
      "cell_type": "markdown",
      "metadata": {
        "id": "view-in-github",
        "colab_type": "text"
      },
      "source": [
        "<a href=\"https://colab.research.google.com/github/Umayyhan/deepfake_project_staj/blob/main/wavfolderconvert_speechtotext_TR.ipynb\" target=\"_parent\"><img src=\"https://colab.research.google.com/assets/colab-badge.svg\" alt=\"Open In Colab\"/></a>"
      ]
    },
    {
      "cell_type": "code",
      "metadata": {
        "id": "AYjSQauxOF1H"
      },
      "source": [
        "!pip3 install SpeechRecognition pydub"
      ],
      "execution_count": null,
      "outputs": []
    },
    {
      "cell_type": "code",
      "metadata": {
        "id": "jK3puA31OW6l"
      },
      "source": [
        "from google.colab import drive\n",
        "drive.mount('/content/drive')\n"
      ],
      "execution_count": null,
      "outputs": []
    },
    {
      "cell_type": "code",
      "metadata": {
        "id": "s2Ljek_iOYmn"
      },
      "source": [
        "# importing libraries \n",
        "import speech_recognition as sr \n",
        "import os \n",
        "from pydub import AudioSegment\n",
        "from pydub.silence import split_on_silence"
      ],
      "execution_count": null,
      "outputs": []
    },
    {
      "cell_type": "code",
      "metadata": {
        "id": "LnEKNJ84OaWx"
      },
      "source": [
        "# create a speech recognition object\n",
        "r = sr.Recognizer()"
      ],
      "execution_count": null,
      "outputs": []
    },
    {
      "cell_type": "code",
      "metadata": {
        "id": "hQCDiKxUOb6G"
      },
      "source": [
        "# a function that splits the audio file into chunks\n",
        "# and applies speech recognition\n",
        "def get_large_audio_transcription(path):\n",
        "    \"\"\"\n",
        "    Splitting the large audio file into chunks\n",
        "    and apply speech recognition on each of these chunks\n",
        "    \"\"\"\n",
        "    # open the audio file using pydub\n",
        "    sound = AudioSegment.from_wav(path)  \n",
        "    # split audio sound where silence is 700 miliseconds or more and get chunks\n",
        "    chunks = split_on_silence(sound,\n",
        "        # experiment with this value for your target audio file\n",
        "        min_silence_len = 500,\n",
        "        # adjust this per requirement\n",
        "        silence_thresh = sound.dBFS-14,\n",
        "        # keep the silence for 1 second, adjustable as well\n",
        "        keep_silence=500,\n",
        "    )\n",
        "    folder_name = \"audio-chunks\"\n",
        "    # create a directory to store the audio chunks\n",
        "    if not os.path.isdir(folder_name):\n",
        "        os.mkdir(folder_name)\n",
        "    whole_text = \"\"\n",
        "    # process each chunk \n",
        "    for i, audio_chunk in enumerate(chunks, start=1):\n",
        "        # export audio chunk and save it in\n",
        "        # the `folder_name` directory.\n",
        "        chunk_filename = os.path.join(folder_name, f\"chunk{i}.wav\")\n",
        "        audio_chunk.export(chunk_filename, format=\"wav\")\n",
        "        # recognize the chunk\n",
        "        with sr.AudioFile(chunk_filename) as source:\n",
        "            audio_listened = r.record(source)\n",
        "            # try converting it to text\n",
        "            try:\n",
        "                #text = r.recognize_google(audio_listened)\n",
        "                text = r.recognize_google(audio_listened, language=\"tr\")\n",
        "            except sr.UnknownValueError as e:\n",
        "                print(\"Error:\", str(e))\n",
        "            else:\n",
        "                text = f\"{text.capitalize()}. \"\n",
        "                print(chunk_filename, \":\", text)\n",
        "                whole_text += text\n",
        "    # return the text for all chunks detected\n",
        "    return whole_text"
      ],
      "execution_count": null,
      "outputs": []
    },
    {
      "cell_type": "code",
      "metadata": {
        "id": "utGVZh9NOskn"
      },
      "source": [
        " PATH=\"/content/drive/MyDrive/Covidli/Covid+ only Speech\" \n",
        " PATH_2 = \"/content/drive/MyDrive/SRT\" \n",
        " #folderda wav dosyalarını geziyor\n",
        " for i in os.listdir(PATH):\n",
        "   print(i)\n",
        "   full_text = get_large_audio_transcription(f\"{PATH}/{i}\")\n",
        "   print(\"\\nFull text:\", full_text)\n",
        "   \n",
        "   chunk_num = 1 \n",
        "\n",
        "   for cumle in full_text.split(\".\"):\n",
        "\n",
        "     # dosya ismindeki wav kısmını atıyoruz \n",
        "     dosya_adi = i.split(\".\")[0] \n",
        "\n",
        "     with open(f\"{PATH_2}/{dosya_adi}_{chunk_num}.txt\", \"w\") as file:\n",
        "\n",
        "       # Cumleleri yazarken en başa boşluk koyuyordu o yüzden lstrip ekledim\n",
        "       file.write(cumle.lstrip()) \n",
        "     \n",
        "     chunk_num += 1"
      ],
      "execution_count": null,
      "outputs": []
    }
  ]
}