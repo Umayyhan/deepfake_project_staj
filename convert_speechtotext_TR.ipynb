{
  "nbformat": 4,
  "nbformat_minor": 0,
  "metadata": {
    "colab": {
      "name": "convert_speechtotext_TR.ipynb",
      "provenance": [],
      "include_colab_link": true
    },
    "kernelspec": {
      "name": "python3",
      "display_name": "Python 3"
    },
    "language_info": {
      "name": "python"
    }
  },
  "cells": [
    {
      "cell_type": "markdown",
      "metadata": {
        "id": "view-in-github",
        "colab_type": "text"
      },
      "source": [
        "<a href=\"https://colab.research.google.com/github/Umayyhan/deepfake_project_staj/blob/main/convert_speechtotext_TR.ipynb\" target=\"_parent\"><img src=\"https://colab.research.google.com/assets/colab-badge.svg\" alt=\"Open In Colab\"/></a>"
      ]
    },
    {
      "cell_type": "code",
      "metadata": {
        "colab": {
          "base_uri": "https://localhost:8080/"
        },
        "id": "yBlmgflArEYt",
        "outputId": "20167202-f09a-4dc2-d157-be1e6323c73d"
      },
      "source": [
        "!pip3 install SpeechRecognition pydub"
      ],
      "execution_count": null,
      "outputs": [
        {
          "output_type": "stream",
          "text": [
            "Requirement already satisfied: SpeechRecognition in /usr/local/lib/python3.7/dist-packages (3.8.1)\n",
            "Requirement already satisfied: pydub in /usr/local/lib/python3.7/dist-packages (0.25.1)\n"
          ],
          "name": "stdout"
        }
      ]
    },
    {
      "cell_type": "code",
      "metadata": {
        "id": "SLErq_WwsxrZ"
      },
      "source": [
        "# importing libraries \n",
        "import speech_recognition as sr \n",
        "import os \n",
        "from pydub import AudioSegment\n",
        "from pydub.silence import split_on_silence"
      ],
      "execution_count": null,
      "outputs": []
    },
    {
      "cell_type": "code",
      "metadata": {
        "id": "QTlH2FBVtSBT"
      },
      "source": [
        "# create a speech recognition object\n",
        "r = sr.Recognizer()"
      ],
      "execution_count": null,
      "outputs": []
    },
    {
      "cell_type": "code",
      "metadata": {
        "id": "PsmbWnY_tdgz"
      },
      "source": [
        "# a function that splits the audio file into chunks\n",
        "# and applies speech recognition\n",
        "def get_large_audio_transcription(path):\n",
        "    \"\"\"\n",
        "    Splitting the large audio file into chunks\n",
        "    and apply speech recognition on each of these chunks\n",
        "    \"\"\"\n",
        "    # open the audio file using pydub\n",
        "    sound = AudioSegment.from_wav(path)  \n",
        "    # split audio sound where silence is 700 miliseconds or more and get chunks\n",
        "    chunks = split_on_silence(sound,\n",
        "        # experiment with this value for your target audio file\n",
        "        min_silence_len = 500,\n",
        "        # adjust this per requirement\n",
        "        silence_thresh = sound.dBFS-14,\n",
        "        # keep the silence for 1 second, adjustable as well\n",
        "        keep_silence=500,\n",
        "    )\n",
        "    folder_name = \"audio-chunks\"\n",
        "    # create a directory to store the audio chunks\n",
        "    if not os.path.isdir(folder_name):\n",
        "        os.mkdir(folder_name)\n",
        "    whole_text = \"\"\n",
        "    # process each chunk \n",
        "    for i, audio_chunk in enumerate(chunks, start=1):\n",
        "        # export audio chunk and save it in\n",
        "        # the `folder_name` directory.\n",
        "        chunk_filename = os.path.join(folder_name, f\"chunk{i}.wav\")\n",
        "        audio_chunk.export(chunk_filename, format=\"wav\")\n",
        "        # recognize the chunk\n",
        "        with sr.AudioFile(chunk_filename) as source:\n",
        "            audio_listened = r.record(source)\n",
        "            # try converting it to text\n",
        "            try:\n",
        "                #text = r.recognize_google(audio_listened)\n",
        "                text = r.recognize_google(audio_listened, language=\"tr\")\n",
        "            except sr.UnknownValueError as e:\n",
        "                print(\"Error:\", str(e))\n",
        "            else:\n",
        "                text = f\"{text.capitalize()}. \"\n",
        "                print(chunk_filename, \":\", text)\n",
        "                whole_text += text\n",
        "    # return the text for all chunks detected\n",
        "    return whole_text"
      ],
      "execution_count": null,
      "outputs": []
    },
    {
      "cell_type": "code",
      "metadata": {
        "colab": {
          "base_uri": "https://localhost:8080/"
        },
        "id": "al9DD1Zwtx-d",
        "outputId": "5cbcb926-985e-45a7-801c-f03b9fb65eb6"
      },
      "source": [
        "path = \"video18_male_speech_1.wav\"\n",
        "print(\"\\nFull text:\", get_large_audio_transcription(path))"
      ],
      "execution_count": null,
      "outputs": [
        {
          "output_type": "stream",
          "text": [
            "audio-chunks/chunk1.wav : Orada bekle köprü. \n",
            "audio-chunks/chunk2.wav : Gelip geçmese de yar. \n",
            "audio-chunks/chunk3.wav : Umudum var. \n",
            "audio-chunks/chunk4.wav : Bu şiirin biraz değişik bir versiyonu son kitabım huzursuzlukta kullanmıştı. \n",
            "audio-chunks/chunk5.wav : Ikincisi şu anda aklıma gelen dün. \n",
            "audio-chunks/chunk6.wav : Adana'dan yaşar kemal günlerinden döndük. \n",
            "audio-chunks/chunk7.wav : Bir kere daha andık 44 yıllık dostumu büyük ustayı. \n",
            "audio-chunks/chunk8.wav : Onun bir sözü vardır gerçekten felsefi derinliği vardır bu sözün. \n",
            "audio-chunks/chunk9.wav : Insan umutsuzluktan umut yaratandır de. \n",
            "audio-chunks/chunk10.wav : Gerçekten de insanların mitolojileri. \n",
            "audio-chunks/chunk11.wav : Masalları. \n",
            "audio-chunks/chunk12.wav : Ermiş hikayeleri işte hızır hikayeleri falan hep umutsuzluğa karşı bir çabadır. \n",
            "audio-chunks/chunk13.wav : Umutsuzluktan umut yaratma çabasıdır. \n",
            "audio-chunks/chunk14.wav : Bir de şu anda tabii ki aklıma geldi büyük nazım hikmet nadir umutsuz yaşanmıyor. \n",
            "audio-chunks/chunk15.wav : Aslında i̇şin özü de burada. \n",
            "audio-chunks/chunk16.wav : Büyükşehir büyük felsefedir aynı zamanda büyükşehir güzel söz söyleme sanatı değildir. \n",
            "audio-chunks/chunk17.wav : Felsefede. \n",
            "audio-chunks/chunk18.wav : Bunun da altına gittiğiniz zaman bir kitap yazabilirsiniz umutsuz yaşanmıyor. \n",
            "audio-chunks/chunk19.wav : Çünkü. \n",
            "audio-chunks/chunk20.wav : Umudumuzu getirdiğimiz anda yaşamak için bir anlamı kalmıyor yaşamanın anlamı kalmıyor hayatın anlamı kalmıyor ve biz mutlaka. \n",
            "Error: \n",
            "audio-chunks/chunk22.wav : Umuda mecburuz öyle diyebilirim nasıl diyor ben sana mecburum atilla i̇lhan. \n",
            "audio-chunks/chunk23.wav : Umuda mecburuz umutsuz yaşanmıyor. \n",
            "audio-chunks/chunk24.wav : Kendi hayatımdan da size bir takım örnekler verebilirim acı tatlı günler fakat daha önce şunu söylemek istiyorum. \n",
            "audio-chunks/chunk25.wav : Bunun en çok farkında olan kişi. \n",
            "audio-chunks/chunk26.wav : Dün. \n",
            "audio-chunks/chunk27.wav : Ölümünün 79 yılını. \n",
            "audio-chunks/chunk28.wav : Andığımız önünde bir kere daha sayili saygıyla. \n",
            "audio-chunks/chunk29.wav : Yüreğimizin titrediği büyük mustafa kemal atatürk. \n",
            "\n",
            "Full text: Orada bekle köprü. Gelip geçmese de yar. Umudum var. Bu şiirin biraz değişik bir versiyonu son kitabım huzursuzlukta kullanmıştı. Ikincisi şu anda aklıma gelen dün. Adana'dan yaşar kemal günlerinden döndük. Bir kere daha andık 44 yıllık dostumu büyük ustayı. Onun bir sözü vardır gerçekten felsefi derinliği vardır bu sözün. Insan umutsuzluktan umut yaratandır de. Gerçekten de insanların mitolojileri. Masalları. Ermiş hikayeleri işte hızır hikayeleri falan hep umutsuzluğa karşı bir çabadır. Umutsuzluktan umut yaratma çabasıdır. Bir de şu anda tabii ki aklıma geldi büyük nazım hikmet nadir umutsuz yaşanmıyor. Aslında i̇şin özü de burada. Büyükşehir büyük felsefedir aynı zamanda büyükşehir güzel söz söyleme sanatı değildir. Felsefede. Bunun da altına gittiğiniz zaman bir kitap yazabilirsiniz umutsuz yaşanmıyor. Çünkü. Umudumuzu getirdiğimiz anda yaşamak için bir anlamı kalmıyor yaşamanın anlamı kalmıyor hayatın anlamı kalmıyor ve biz mutlaka. Umuda mecburuz öyle diyebilirim nasıl diyor ben sana mecburum atilla i̇lhan. Umuda mecburuz umutsuz yaşanmıyor. Kendi hayatımdan da size bir takım örnekler verebilirim acı tatlı günler fakat daha önce şunu söylemek istiyorum. Bunun en çok farkında olan kişi. Dün. Ölümünün 79 yılını. Andığımız önünde bir kere daha sayili saygıyla. Yüreğimizin titrediği büyük mustafa kemal atatürk. \n"
          ],
          "name": "stdout"
        }
      ]
    }
  ]
}